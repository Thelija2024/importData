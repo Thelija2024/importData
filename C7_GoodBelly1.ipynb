{
 "cells": [
  {
   "cell_type": "code",
   "execution_count": 6,
   "id": "f4d9c9eb",
   "metadata": {
    "id": "f4d9c9eb"
   },
   "outputs": [],
   "source": [
    "import pandas as pd\n",
    "import numpy as np\n",
    "from scipy import stats as st"
   ]
  },
  {
   "cell_type": "code",
   "execution_count": 15,
   "id": "beb8389f",
   "metadata": {
    "id": "beb8389f",
    "outputId": "aaf273b3-a298-4d26-b5e7-9ce2fecd04f8"
   },
   "outputs": [
    {
     "data": {
      "text/html": [
       "<div>\n",
       "<style scoped>\n",
       "    .dataframe tbody tr th:only-of-type {\n",
       "        vertical-align: middle;\n",
       "    }\n",
       "\n",
       "    .dataframe tbody tr th {\n",
       "        vertical-align: top;\n",
       "    }\n",
       "\n",
       "    .dataframe thead th {\n",
       "        text-align: right;\n",
       "    }\n",
       "</style>\n",
       "<table border=\"1\" class=\"dataframe\">\n",
       "  <thead>\n",
       "    <tr style=\"text-align: right;\">\n",
       "      <th></th>\n",
       "      <th>Date</th>\n",
       "      <th>Region</th>\n",
       "      <th>Store</th>\n",
       "      <th>Units Sold</th>\n",
       "      <th>Average Retail Price</th>\n",
       "      <th>Sales Rep</th>\n",
       "      <th>Endcap</th>\n",
       "      <th>Demo</th>\n",
       "      <th>Demo1-3</th>\n",
       "      <th>Demo4-5</th>\n",
       "      <th>Natural</th>\n",
       "      <th>Fitness</th>\n",
       "    </tr>\n",
       "  </thead>\n",
       "  <tbody>\n",
       "    <tr>\n",
       "      <th>0</th>\n",
       "      <td>2010-05-04</td>\n",
       "      <td>FL</td>\n",
       "      <td>Biscayne (aka Aventura)</td>\n",
       "      <td>150.702088</td>\n",
       "      <td>4.390000</td>\n",
       "      <td>0.0</td>\n",
       "      <td>0.0</td>\n",
       "      <td>0.0</td>\n",
       "      <td>0.0</td>\n",
       "      <td>0.0</td>\n",
       "      <td>1.0</td>\n",
       "      <td>0.0</td>\n",
       "    </tr>\n",
       "    <tr>\n",
       "      <th>1</th>\n",
       "      <td>2010-05-11</td>\n",
       "      <td>FL</td>\n",
       "      <td>Biscayne (aka Aventura)</td>\n",
       "      <td>197.403797</td>\n",
       "      <td>3.997692</td>\n",
       "      <td>0.0</td>\n",
       "      <td>0.0</td>\n",
       "      <td>0.0</td>\n",
       "      <td>0.0</td>\n",
       "      <td>0.0</td>\n",
       "      <td>1.0</td>\n",
       "      <td>0.0</td>\n",
       "    </tr>\n",
       "    <tr>\n",
       "      <th>2</th>\n",
       "      <td>2010-05-18</td>\n",
       "      <td>FL</td>\n",
       "      <td>Biscayne (aka Aventura)</td>\n",
       "      <td>235.106172</td>\n",
       "      <td>3.809231</td>\n",
       "      <td>0.0</td>\n",
       "      <td>0.0</td>\n",
       "      <td>0.0</td>\n",
       "      <td>0.0</td>\n",
       "      <td>0.0</td>\n",
       "      <td>1.0</td>\n",
       "      <td>0.0</td>\n",
       "    </tr>\n",
       "    <tr>\n",
       "      <th>3</th>\n",
       "      <td>2010-05-25</td>\n",
       "      <td>FL</td>\n",
       "      <td>Biscayne (aka Aventura)</td>\n",
       "      <td>226.692427</td>\n",
       "      <td>3.835000</td>\n",
       "      <td>0.0</td>\n",
       "      <td>0.0</td>\n",
       "      <td>0.0</td>\n",
       "      <td>0.0</td>\n",
       "      <td>0.0</td>\n",
       "      <td>1.0</td>\n",
       "      <td>0.0</td>\n",
       "    </tr>\n",
       "    <tr>\n",
       "      <th>4</th>\n",
       "      <td>2010-06-01</td>\n",
       "      <td>FL</td>\n",
       "      <td>Biscayne (aka Aventura)</td>\n",
       "      <td>257.688151</td>\n",
       "      <td>3.902500</td>\n",
       "      <td>0.0</td>\n",
       "      <td>0.0</td>\n",
       "      <td>0.0</td>\n",
       "      <td>0.0</td>\n",
       "      <td>0.0</td>\n",
       "      <td>1.0</td>\n",
       "      <td>0.0</td>\n",
       "    </tr>\n",
       "  </tbody>\n",
       "</table>\n",
       "</div>"
      ],
      "text/plain": [
       "        Date Region                    Store  Units Sold  \\\n",
       "0 2010-05-04     FL  Biscayne (aka Aventura)  150.702088   \n",
       "1 2010-05-11     FL  Biscayne (aka Aventura)  197.403797   \n",
       "2 2010-05-18     FL  Biscayne (aka Aventura)  235.106172   \n",
       "3 2010-05-25     FL  Biscayne (aka Aventura)  226.692427   \n",
       "4 2010-06-01     FL  Biscayne (aka Aventura)  257.688151   \n",
       "\n",
       "   Average Retail Price  Sales Rep  Endcap  Demo  Demo1-3  Demo4-5  Natural  \\\n",
       "0              4.390000        0.0     0.0   0.0      0.0      0.0      1.0   \n",
       "1              3.997692        0.0     0.0   0.0      0.0      0.0      1.0   \n",
       "2              3.809231        0.0     0.0   0.0      0.0      0.0      1.0   \n",
       "3              3.835000        0.0     0.0   0.0      0.0      0.0      1.0   \n",
       "4              3.902500        0.0     0.0   0.0      0.0      0.0      1.0   \n",
       "\n",
       "   Fitness  \n",
       "0      0.0  \n",
       "1      0.0  \n",
       "2      0.0  \n",
       "3      0.0  \n",
       "4      0.0  "
      ]
     },
     "execution_count": 15,
     "metadata": {},
     "output_type": "execute_result"
    }
   ],
   "source": [
    "df=pd.read_excel(r'C:\\Users\\HP\\OneDrive\\Bureau\\GoodBelly-DataSet.xlsx', sheet_name='Real Data')\n",
    "df.head()"
   ]
  },
  {
   "cell_type": "code",
   "execution_count": 16,
   "id": "12123e22",
   "metadata": {
    "id": "12123e22"
   },
   "outputs": [
    {
     "data": {
      "text/html": [
       "<div>\n",
       "<style scoped>\n",
       "    .dataframe tbody tr th:only-of-type {\n",
       "        vertical-align: middle;\n",
       "    }\n",
       "\n",
       "    .dataframe tbody tr th {\n",
       "        vertical-align: top;\n",
       "    }\n",
       "\n",
       "    .dataframe thead th {\n",
       "        text-align: right;\n",
       "    }\n",
       "</style>\n",
       "<table border=\"1\" class=\"dataframe\">\n",
       "  <thead>\n",
       "    <tr style=\"text-align: right;\">\n",
       "      <th></th>\n",
       "      <th>Units Sold</th>\n",
       "      <th>Average Retail Price</th>\n",
       "      <th>Sales Rep</th>\n",
       "      <th>Endcap</th>\n",
       "      <th>Demo</th>\n",
       "      <th>Demo1-3</th>\n",
       "      <th>Demo4-5</th>\n",
       "      <th>Natural</th>\n",
       "      <th>Fitness</th>\n",
       "    </tr>\n",
       "  </thead>\n",
       "  <tbody>\n",
       "    <tr>\n",
       "      <th>count</th>\n",
       "      <td>1386.000000</td>\n",
       "      <td>1386.000000</td>\n",
       "      <td>1386.000000</td>\n",
       "      <td>1386.000000</td>\n",
       "      <td>1386.000000</td>\n",
       "      <td>1386.000000</td>\n",
       "      <td>1386.000000</td>\n",
       "      <td>1386.000000</td>\n",
       "      <td>1386.000000</td>\n",
       "    </tr>\n",
       "    <tr>\n",
       "      <th>mean</th>\n",
       "      <td>253.820718</td>\n",
       "      <td>4.107093</td>\n",
       "      <td>0.549784</td>\n",
       "      <td>0.038240</td>\n",
       "      <td>0.058442</td>\n",
       "      <td>0.156566</td>\n",
       "      <td>0.075758</td>\n",
       "      <td>1.448773</td>\n",
       "      <td>2.476190</td>\n",
       "    </tr>\n",
       "    <tr>\n",
       "      <th>std</th>\n",
       "      <td>110.998731</td>\n",
       "      <td>0.463828</td>\n",
       "      <td>0.497695</td>\n",
       "      <td>0.191843</td>\n",
       "      <td>0.234661</td>\n",
       "      <td>0.363522</td>\n",
       "      <td>0.264705</td>\n",
       "      <td>0.975092</td>\n",
       "      <td>1.592789</td>\n",
       "    </tr>\n",
       "    <tr>\n",
       "      <th>min</th>\n",
       "      <td>47.559852</td>\n",
       "      <td>2.889286</td>\n",
       "      <td>0.000000</td>\n",
       "      <td>0.000000</td>\n",
       "      <td>0.000000</td>\n",
       "      <td>0.000000</td>\n",
       "      <td>0.000000</td>\n",
       "      <td>0.000000</td>\n",
       "      <td>0.000000</td>\n",
       "    </tr>\n",
       "    <tr>\n",
       "      <th>25%</th>\n",
       "      <td>189.995471</td>\n",
       "      <td>3.775714</td>\n",
       "      <td>0.000000</td>\n",
       "      <td>0.000000</td>\n",
       "      <td>0.000000</td>\n",
       "      <td>0.000000</td>\n",
       "      <td>0.000000</td>\n",
       "      <td>1.000000</td>\n",
       "      <td>1.000000</td>\n",
       "    </tr>\n",
       "    <tr>\n",
       "      <th>50%</th>\n",
       "      <td>236.735266</td>\n",
       "      <td>4.096667</td>\n",
       "      <td>1.000000</td>\n",
       "      <td>0.000000</td>\n",
       "      <td>0.000000</td>\n",
       "      <td>0.000000</td>\n",
       "      <td>0.000000</td>\n",
       "      <td>1.000000</td>\n",
       "      <td>2.000000</td>\n",
       "    </tr>\n",
       "    <tr>\n",
       "      <th>75%</th>\n",
       "      <td>295.804391</td>\n",
       "      <td>4.425067</td>\n",
       "      <td>1.000000</td>\n",
       "      <td>0.000000</td>\n",
       "      <td>0.000000</td>\n",
       "      <td>0.000000</td>\n",
       "      <td>0.000000</td>\n",
       "      <td>2.000000</td>\n",
       "      <td>4.000000</td>\n",
       "    </tr>\n",
       "    <tr>\n",
       "      <th>max</th>\n",
       "      <td>1041.200256</td>\n",
       "      <td>6.251538</td>\n",
       "      <td>1.000000</td>\n",
       "      <td>1.000000</td>\n",
       "      <td>1.000000</td>\n",
       "      <td>1.000000</td>\n",
       "      <td>1.000000</td>\n",
       "      <td>4.000000</td>\n",
       "      <td>5.000000</td>\n",
       "    </tr>\n",
       "  </tbody>\n",
       "</table>\n",
       "</div>"
      ],
      "text/plain": [
       "        Units Sold  Average Retail Price    Sales Rep       Endcap  \\\n",
       "count  1386.000000           1386.000000  1386.000000  1386.000000   \n",
       "mean    253.820718              4.107093     0.549784     0.038240   \n",
       "std     110.998731              0.463828     0.497695     0.191843   \n",
       "min      47.559852              2.889286     0.000000     0.000000   \n",
       "25%     189.995471              3.775714     0.000000     0.000000   \n",
       "50%     236.735266              4.096667     1.000000     0.000000   \n",
       "75%     295.804391              4.425067     1.000000     0.000000   \n",
       "max    1041.200256              6.251538     1.000000     1.000000   \n",
       "\n",
       "              Demo      Demo1-3      Demo4-5      Natural      Fitness  \n",
       "count  1386.000000  1386.000000  1386.000000  1386.000000  1386.000000  \n",
       "mean      0.058442     0.156566     0.075758     1.448773     2.476190  \n",
       "std       0.234661     0.363522     0.264705     0.975092     1.592789  \n",
       "min       0.000000     0.000000     0.000000     0.000000     0.000000  \n",
       "25%       0.000000     0.000000     0.000000     1.000000     1.000000  \n",
       "50%       0.000000     0.000000     0.000000     1.000000     2.000000  \n",
       "75%       0.000000     0.000000     0.000000     2.000000     4.000000  \n",
       "max       1.000000     1.000000     1.000000     4.000000     5.000000  "
      ]
     },
     "execution_count": 16,
     "metadata": {},
     "output_type": "execute_result"
    }
   ],
   "source": [
    "#Q1 - Give summary of numeric type of columns in dataset?\n",
    "df.describe()"
   ]
  },
  {
   "cell_type": "code",
   "execution_count": 18,
   "id": "13283b1d",
   "metadata": {
    "id": "13283b1d"
   },
   "outputs": [
    {
     "name": "stderr",
     "output_type": "stream",
     "text": [
      "C:\\Users\\HP\\AppData\\Local\\Temp/ipykernel_17100/2211804836.py:2: FutureWarning: Dropping of nuisance columns in DataFrame reductions (with 'numeric_only=None') is deprecated; in a future version this will raise TypeError.  Select only valid columns before calling the reduction.\n",
      "  df.std()\n"
     ]
    },
    {
     "data": {
      "text/plain": [
       "Date                    22 days 03:27:15.853934319\n",
       "Units Sold                              110.998731\n",
       "Average Retail Price                      0.463828\n",
       "Sales Rep                                 0.497695\n",
       "Endcap                                    0.191843\n",
       "Demo                                      0.234661\n",
       "Demo1-3                                   0.363522\n",
       "Demo4-5                                   0.264705\n",
       "Natural                                   0.975092\n",
       "Fitness                                   1.592789\n",
       "dtype: object"
      ]
     },
     "execution_count": 18,
     "metadata": {},
     "output_type": "execute_result"
    }
   ],
   "source": [
    "#Q2 Calc STD of columns in dataset\n",
    "df.std()\n"
   ]
  },
  {
   "cell_type": "code",
   "execution_count": 20,
   "id": "7c71300a",
   "metadata": {
    "id": "7c71300a"
   },
   "outputs": [
    {
     "name": "stderr",
     "output_type": "stream",
     "text": [
      "C:\\Users\\HP\\AppData\\Local\\Temp/ipykernel_17100/3150851603.py:3: FutureWarning: DataFrame.mean and DataFrame.median with numeric_only=None will include datetime64 and datetime64tz columns in a future version.\n",
      "  df.mean()\n",
      "C:\\Users\\HP\\AppData\\Local\\Temp/ipykernel_17100/3150851603.py:3: FutureWarning: Dropping of nuisance columns in DataFrame reductions (with 'numeric_only=None') is deprecated; in a future version this will raise TypeError.  Select only valid columns before calling the reduction.\n",
      "  df.mean()\n"
     ]
    },
    {
     "data": {
      "text/plain": [
       "Units Sold              253.820718\n",
       "Average Retail Price      4.107093\n",
       "Sales Rep                 0.549784\n",
       "Endcap                    0.038240\n",
       "Demo                      0.058442\n",
       "Demo1-3                   0.156566\n",
       "Demo4-5                   0.075758\n",
       "Natural                   1.448773\n",
       "Fitness                   2.476190\n",
       "dtype: float64"
      ]
     },
     "execution_count": 20,
     "metadata": {},
     "output_type": "execute_result"
    }
   ],
   "source": [
    "#Q3 mean of first 50 records in dataset\n",
    "#df['Units Sold'].mean()\n",
    "df.mean()"
   ]
  },
  {
   "cell_type": "code",
   "execution_count": 22,
   "id": "6a5e7d11",
   "metadata": {
    "id": "6a5e7d11"
   },
   "outputs": [
    {
     "name": "stdout",
     "output_type": "stream",
     "text": [
      "Index(['Date', 'Region', 'Store', 'Units Sold', 'Average Retail Price',\n",
      "       'Sales Rep', 'Endcap', 'Demo', 'Demo1-3', 'Demo4-5', 'Natural',\n",
      "       'Fitness'],\n",
      "      dtype='object')\n"
     ]
    }
   ],
   "source": [
    "#Q4 What are thecolumn names\n",
    "print(df.columns)"
   ]
  },
  {
   "cell_type": "code",
   "execution_count": 23,
   "id": "d34a7891",
   "metadata": {
    "id": "d34a7891"
   },
   "outputs": [
    {
     "data": {
      "text/plain": [
       "1386"
      ]
     },
     "execution_count": 23,
     "metadata": {},
     "output_type": "execute_result"
    }
   ],
   "source": [
    "#Q - Number of elements in dataset\n",
    "len(df)"
   ]
  },
  {
   "cell_type": "code",
   "execution_count": 25,
   "id": "0b111e99",
   "metadata": {
    "id": "0b111e99"
   },
   "outputs": [
    {
     "data": {
      "text/plain": [
       "RangeIndex(start=0, stop=1386, step=1)"
      ]
     },
     "execution_count": 25,
     "metadata": {},
     "output_type": "execute_result"
    }
   ],
   "source": [
    "#Q- No. of records this dataset has\n",
    "len(df.index)"
   ]
  },
  {
   "cell_type": "code",
   "execution_count": 27,
   "id": "428747b0",
   "metadata": {
    "id": "428747b0"
   },
   "outputs": [
    {
     "data": {
      "text/plain": [
       "Date                    datetime64[ns]\n",
       "Region                          object\n",
       "Store                           object\n",
       "Units Sold                     float64\n",
       "Average Retail Price           float64\n",
       "Sales Rep                      float64\n",
       "Endcap                         float64\n",
       "Demo                           float64\n",
       "Demo1-3                        float64\n",
       "Demo4-5                        float64\n",
       "Natural                        float64\n",
       "Fitness                        float64\n",
       "dtype: object"
      ]
     },
     "execution_count": 27,
     "metadata": {},
     "output_type": "execute_result"
    }
   ],
   "source": [
    "#Q type of column dataset has\n",
    "df.dtypes"
   ]
  },
  {
   "cell_type": "code",
   "execution_count": null,
   "id": "21f7c0cd",
   "metadata": {
    "id": "21f7c0cd"
   },
   "outputs": [],
   "source": []
  }
 ],
 "metadata": {
  "colab": {
   "provenance": []
  },
  "kernelspec": {
   "display_name": "Python 3 (ipykernel)",
   "language": "python",
   "name": "python3"
  },
  "language_info": {
   "codemirror_mode": {
    "name": "ipython",
    "version": 3
   },
   "file_extension": ".py",
   "mimetype": "text/x-python",
   "name": "python",
   "nbconvert_exporter": "python",
   "pygments_lexer": "ipython3",
   "version": "3.9.7"
  }
 },
 "nbformat": 4,
 "nbformat_minor": 5
}
